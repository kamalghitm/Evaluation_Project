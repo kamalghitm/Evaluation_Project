{
 "cells": [
  {
   "cell_type": "code",
   "execution_count": 419,
   "metadata": {},
   "outputs": [],
   "source": [
    "import pandas as pd\n",
    "import numpy as np\n",
    "import matplotlib.pyplot as plt\n",
    "import seaborn as sns\n",
    "from scipy.stats import boxcox,zscore\n",
    "from sklearn.linear_model import LinearRegression,Lasso,Ridge\n",
    "from sklearn.model_selection import train_test_split,cross_val_score,GridSearchCV\n",
    "from sklearn.metrics import mean_squared_error,mean_absolute_error,r2_score,classification_report,confusion_matrix,accuracy_score\n",
    "from sklearn.preprocessing import LabelEncoder,StandardScaler\n",
    "from sklearn.impute import SimpleImputer\n",
    "import mysql.connector as connector\n",
    "import sys\n",
    "import joblib as joblib"
   ]
  },
  {
   "cell_type": "code",
   "execution_count": 420,
   "metadata": {},
   "outputs": [
    {
     "name": "stdout",
     "output_type": "stream",
     "text": [
      "successfully loaded csv file to db\n",
      "       Name Gender         DOB  Maths  Physics  Chemistry  English  Biology  \\\n",
      "0      John      M  05-04-1988     55       45         56       87       21   \n",
      "1    Suresh      M  04-05-1987     75       96         78       64       90   \n",
      "2    Ramesh      M  25-05-1989     25       54         89       76       95   \n",
      "3   Jessica      F  12-08-1990     78       96         86       63       54   \n",
      "4  Jennifer      F  02-09-1989     58       96         78       46       96   \n",
      "5      Annu      F  05-04-1988     45       87         52       89       55   \n",
      "6     pooja      F  04-05-1987     55       64         61       58       75   \n",
      "7    Ritesh      M  25-05-1989     54       76         87       56       25   \n",
      "8     Farha      F  12-08-1990     55       63         89       75       78   \n",
      "9    Mukesh      M  02-09-1989     96       46         77       83       58   \n",
      "\n",
      "   Economics  History  Civics  \n",
      "0         52       89      65  \n",
      "1         61       58       2  \n",
      "2         87       56      74  \n",
      "3         89       75      45  \n",
      "4         77       83      53  \n",
      "5         89       87      52  \n",
      "6         58       64      61  \n",
      "7         56       76      87  \n",
      "8         75       63      89  \n",
      "9         83       46      77  \n"
     ]
    }
   ],
   "source": [
    "#connecting to mysql and loading csv file done here\n",
    "try:\n",
    "    conn=connector.connect(host='localhost',username='root',password='root',port='3306',database='DATATRAINED')\n",
    "    cursor=conn.cursor()\n",
    "    cursor.execute(\"load data infile 'C:/ProgramData/MySQL/MySQL Server 8.0/Uploads/Student_Mark.csv' into table STUDENT_MARK fields terminated by ',' lines terminated by '\\n' ignore 1 lines ;\")\n",
    "    print('successfully loaded csv file to db')\n",
    "    conn.commit()\n",
    "    df=pd.read_sql('select * from STUDENT_MARK',conn)\n",
    "    print(df)\n",
    "    conn.close()\n",
    "\n",
    "except Exception as e:\n",
    "    print(\"Error in db operation \",e)\n",
    "    sys.exit(1)"
   ]
  },
  {
   "cell_type": "code",
   "execution_count": 421,
   "metadata": {},
   "outputs": [
    {
     "data": {
      "text/plain": [
       "Name         object\n",
       "Gender       object\n",
       "DOB          object\n",
       "Maths         int64\n",
       "Physics       int64\n",
       "Chemistry     int64\n",
       "English       int64\n",
       "Biology       int64\n",
       "Economics     int64\n",
       "History       int64\n",
       "Civics        int64\n",
       "dtype: object"
      ]
     },
     "execution_count": 421,
     "metadata": {},
     "output_type": "execute_result"
    }
   ],
   "source": [
    "#showing all data types for each column\n",
    "#we have 3 string data type .\n",
    "df.dtypes"
   ]
  },
  {
   "cell_type": "code",
   "execution_count": 422,
   "metadata": {},
   "outputs": [
    {
     "data": {
      "text/plain": [
       "(10, 11)"
      ]
     },
     "execution_count": 422,
     "metadata": {},
     "output_type": "execute_result"
    }
   ],
   "source": [
    "#print no of rows and columns\n",
    "df.shape"
   ]
  },
  {
   "cell_type": "code",
   "execution_count": 423,
   "metadata": {},
   "outputs": [
    {
     "data": {
      "text/plain": [
       "Name         0\n",
       "Gender       0\n",
       "DOB          0\n",
       "Maths        0\n",
       "Physics      0\n",
       "Chemistry    0\n",
       "English      0\n",
       "Biology      0\n",
       "Economics    0\n",
       "History      0\n",
       "Civics       0\n",
       "dtype: int64"
      ]
     },
     "execution_count": 423,
     "metadata": {},
     "output_type": "execute_result"
    }
   ],
   "source": [
    "#check any null value presents or not\n",
    "df.isnull().sum()"
   ]
  },
  {
   "cell_type": "code",
   "execution_count": 424,
   "metadata": {},
   "outputs": [
    {
     "data": {
      "text/plain": [
       "Name         0\n",
       "Gender       0\n",
       "DOB          0\n",
       "Maths        0\n",
       "Physics      0\n",
       "Chemistry    0\n",
       "English      0\n",
       "Biology      0\n",
       "Economics    0\n",
       "History      0\n",
       "Civics       0\n",
       "dtype: int64"
      ]
     },
     "execution_count": 424,
     "metadata": {},
     "output_type": "execute_result"
    }
   ],
   "source": [
    "#check any 0 value present or not .If present then replace with mean value\n",
    "df.isin([0]).sum()"
   ]
  },
  {
   "cell_type": "code",
   "execution_count": 425,
   "metadata": {},
   "outputs": [
    {
     "data": {
      "text/plain": [
       "array(['M', 'F'], dtype=object)"
      ]
     },
     "execution_count": 425,
     "metadata": {},
     "output_type": "execute_result"
    }
   ],
   "source": [
    "#Start EDA process\n",
    "#print distinct value of Gender column\n",
    "df['Gender'].unique()"
   ]
  },
  {
   "cell_type": "code",
   "execution_count": 426,
   "metadata": {},
   "outputs": [
    {
     "data": {
      "text/plain": [
       "Text(0, 0.5, 'Marks')"
      ]
     },
     "execution_count": 426,
     "metadata": {},
     "output_type": "execute_result"
    },
    {
     "data": {
      "image/png": "[encoded data removed]",
      "text/plain": [
       "<Figure size 576x360 with 1 Axes>"
      ]
     },
     "metadata": {
      "needs_background": "light"
     },
     "output_type": "display_data"
    }
   ],
   "source": [
    "#Graph of gender wise mark distribution\n",
    "gender_wise_df=df.groupby(['Gender']).agg({'Maths':'sum','Physics':'sum','Chemistry':'sum','English':'sum','Biology':'sum','Economics':'sum','History':'sum','Civics':'sum'}).reset_index()\n",
    "#converting columns into rows .Now column header are indexes .\n",
    "gender_wise_df_t=gender_wise_df.T\n",
    "#removing Gender row because it is not required in graph\n",
    "gender_wise_df_t=gender_wise_df_t.drop('Gender',axis=0)\n",
    "#naming column index\n",
    "gender_wise_df_t.columns=['Male','Female']\n",
    "\n",
    "#finally plotting the bar graph\n",
    "gender_wise_df_t.plot(kind='bar',figsize=(8,5))\n",
    "plt.title('Geneder wise mark distribution')\n",
    "plt.xlabel('Subject')\n",
    "plt.ylabel('Marks')\n",
    "\n",
    "#from below graph we conclude that girls did good in Maths,Chemistry,English and civis compare to boys\n",
    "#and boys did well in Physics,Biology,History,economics comapre to girl\n",
    "\n"
   ]
  },
  {
   "cell_type": "code",
   "execution_count": 427,
   "metadata": {},
   "outputs": [
    {
     "name": "stdout",
     "output_type": "stream",
     "text": [
      "Gender\n",
      "F    2812\n",
      "M    2633\n",
      "dtype: int64\n",
      "<class 'pandas.core.series.Series'>\n"
     ]
    },
    {
     "data": {
      "text/plain": [
       "Text(0, 0.5, 'Total Mark')"
      ]
     },
     "execution_count": 427,
     "metadata": {},
     "output_type": "execute_result"
    },
    {
     "data": {
      "image/png": "[encoded data removed]",
      "text/plain": [
       "<Figure size 432x288 with 1 Axes>"
      ]
     },
     "metadata": {
      "needs_background": "light"
     },
     "output_type": "display_data"
    }
   ],
   "source": [
    "gender_wise_df_i=gender_wise_df.set_index('Gender')\n",
    "gender_wise_df_i=gender_wise_df_i.sum(axis=1)\n",
    "print(gender_wise_df_i)\n",
    "print(type(gender_wise_df_i))\n",
    "gender_wise_df_i.plot(kind='bar')\n",
    "plt.title('Gender vs total mark')\n",
    "plt.xlabel('Gender')\n",
    "plt.ylabel('Total Mark')\n",
    "#Girls scored better than boys in total"
   ]
  },
  {
   "cell_type": "code",
   "execution_count": 428,
   "metadata": {},
   "outputs": [
    {
     "data": {
      "text/html": [
       "<div>\n",
       "<style scoped>\n",
       "    .dataframe tbody tr th:only-of-type {\n",
       "        vertical-align: middle;\n",
       "    }\n",
       "\n",
       "    .dataframe tbody tr th {\n",
       "        vertical-align: top;\n",
       "    }\n",
       "\n",
       "    .dataframe thead th {\n",
       "        text-align: right;\n",
       "    }\n",
       "</style>\n",
       "<table border=\"1\" class=\"dataframe\">\n",
       "  <thead>\n",
       "    <tr style=\"text-align: right;\">\n",
       "      <th></th>\n",
       "      <th>Name</th>\n",
       "      <th>Gender</th>\n",
       "      <th>DOB</th>\n",
       "      <th>Maths</th>\n",
       "      <th>Physics</th>\n",
       "      <th>Chemistry</th>\n",
       "      <th>English</th>\n",
       "      <th>Biology</th>\n",
       "      <th>Economics</th>\n",
       "      <th>History</th>\n",
       "      <th>Civics</th>\n",
       "    </tr>\n",
       "  </thead>\n",
       "  <tbody>\n",
       "    <tr>\n",
       "      <th>0</th>\n",
       "      <td>John</td>\n",
       "      <td>M</td>\n",
       "      <td>05-04-1988</td>\n",
       "      <td>55</td>\n",
       "      <td>45</td>\n",
       "      <td>56</td>\n",
       "      <td>87</td>\n",
       "      <td>21</td>\n",
       "      <td>52</td>\n",
       "      <td>89</td>\n",
       "      <td>65</td>\n",
       "    </tr>\n",
       "    <tr>\n",
       "      <th>1</th>\n",
       "      <td>Suresh</td>\n",
       "      <td>M</td>\n",
       "      <td>04-05-1987</td>\n",
       "      <td>75</td>\n",
       "      <td>96</td>\n",
       "      <td>78</td>\n",
       "      <td>64</td>\n",
       "      <td>90</td>\n",
       "      <td>61</td>\n",
       "      <td>58</td>\n",
       "      <td>2</td>\n",
       "    </tr>\n",
       "    <tr>\n",
       "      <th>2</th>\n",
       "      <td>Ramesh</td>\n",
       "      <td>M</td>\n",
       "      <td>25-05-1989</td>\n",
       "      <td>25</td>\n",
       "      <td>54</td>\n",
       "      <td>89</td>\n",
       "      <td>76</td>\n",
       "      <td>95</td>\n",
       "      <td>87</td>\n",
       "      <td>56</td>\n",
       "      <td>74</td>\n",
       "    </tr>\n",
       "    <tr>\n",
       "      <th>3</th>\n",
       "      <td>Jessica</td>\n",
       "      <td>F</td>\n",
       "      <td>12-08-1990</td>\n",
       "      <td>78</td>\n",
       "      <td>96</td>\n",
       "      <td>86</td>\n",
       "      <td>63</td>\n",
       "      <td>54</td>\n",
       "      <td>89</td>\n",
       "      <td>75</td>\n",
       "      <td>45</td>\n",
       "    </tr>\n",
       "    <tr>\n",
       "      <th>4</th>\n",
       "      <td>Jennifer</td>\n",
       "      <td>F</td>\n",
       "      <td>02-09-1989</td>\n",
       "      <td>58</td>\n",
       "      <td>96</td>\n",
       "      <td>78</td>\n",
       "      <td>46</td>\n",
       "      <td>96</td>\n",
       "      <td>77</td>\n",
       "      <td>83</td>\n",
       "      <td>53</td>\n",
       "    </tr>\n",
       "    <tr>\n",
       "      <th>5</th>\n",
       "      <td>Annu</td>\n",
       "      <td>F</td>\n",
       "      <td>05-04-1988</td>\n",
       "      <td>45</td>\n",
       "      <td>87</td>\n",
       "      <td>52</td>\n",
       "      <td>89</td>\n",
       "      <td>55</td>\n",
       "      <td>89</td>\n",
       "      <td>87</td>\n",
       "      <td>52</td>\n",
       "    </tr>\n",
       "    <tr>\n",
       "      <th>6</th>\n",
       "      <td>pooja</td>\n",
       "      <td>F</td>\n",
       "      <td>04-05-1987</td>\n",
       "      <td>55</td>\n",
       "      <td>64</td>\n",
       "      <td>61</td>\n",
       "      <td>58</td>\n",
       "      <td>75</td>\n",
       "      <td>58</td>\n",
       "      <td>64</td>\n",
       "      <td>61</td>\n",
       "    </tr>\n",
       "    <tr>\n",
       "      <th>7</th>\n",
       "      <td>Ritesh</td>\n",
       "      <td>M</td>\n",
       "      <td>25-05-1989</td>\n",
       "      <td>54</td>\n",
       "      <td>76</td>\n",
       "      <td>87</td>\n",
       "      <td>56</td>\n",
       "      <td>25</td>\n",
       "      <td>56</td>\n",
       "      <td>76</td>\n",
       "      <td>87</td>\n",
       "    </tr>\n",
       "    <tr>\n",
       "      <th>8</th>\n",
       "      <td>Farha</td>\n",
       "      <td>F</td>\n",
       "      <td>12-08-1990</td>\n",
       "      <td>55</td>\n",
       "      <td>63</td>\n",
       "      <td>89</td>\n",
       "      <td>75</td>\n",
       "      <td>78</td>\n",
       "      <td>75</td>\n",
       "      <td>63</td>\n",
       "      <td>89</td>\n",
       "    </tr>\n",
       "    <tr>\n",
       "      <th>9</th>\n",
       "      <td>Mukesh</td>\n",
       "      <td>M</td>\n",
       "      <td>02-09-1989</td>\n",
       "      <td>96</td>\n",
       "      <td>46</td>\n",
       "      <td>77</td>\n",
       "      <td>83</td>\n",
       "      <td>58</td>\n",
       "      <td>83</td>\n",
       "      <td>46</td>\n",
       "      <td>77</td>\n",
       "    </tr>\n",
       "  </tbody>\n",
       "</table>\n",
       "</div>"
      ],
      "text/plain": [
       "       Name Gender         DOB  Maths  Physics  Chemistry  English  Biology  \\\n",
       "0      John      M  05-04-1988     55       45         56       87       21   \n",
       "1    Suresh      M  04-05-1987     75       96         78       64       90   \n",
       "2    Ramesh      M  25-05-1989     25       54         89       76       95   \n",
       "3   Jessica      F  12-08-1990     78       96         86       63       54   \n",
       "4  Jennifer      F  02-09-1989     58       96         78       46       96   \n",
       "5      Annu      F  05-04-1988     45       87         52       89       55   \n",
       "6     pooja      F  04-05-1987     55       64         61       58       75   \n",
       "7    Ritesh      M  25-05-1989     54       76         87       56       25   \n",
       "8     Farha      F  12-08-1990     55       63         89       75       78   \n",
       "9    Mukesh      M  02-09-1989     96       46         77       83       58   \n",
       "\n",
       "   Economics  History  Civics  \n",
       "0         52       89      65  \n",
       "1         61       58       2  \n",
       "2         87       56      74  \n",
       "3         89       75      45  \n",
       "4         77       83      53  \n",
       "5         89       87      52  \n",
       "6         58       64      61  \n",
       "7         56       76      87  \n",
       "8         75       63      89  \n",
       "9         83       46      77  "
      ]
     },
     "execution_count": 428,
     "metadata": {},
     "output_type": "execute_result"
    }
   ],
   "source": [
    "df"
   ]
  },
  {
   "cell_type": "code",
   "execution_count": 429,
   "metadata": {},
   "outputs": [
    {
     "data": {
      "text/html": [
       "<div>\n",
       "<style scoped>\n",
       "    .dataframe tbody tr th:only-of-type {\n",
       "        vertical-align: middle;\n",
       "    }\n",
       "\n",
       "    .dataframe tbody tr th {\n",
       "        vertical-align: top;\n",
       "    }\n",
       "\n",
       "    .dataframe thead th {\n",
       "        text-align: right;\n",
       "    }\n",
       "</style>\n",
       "<table border=\"1\" class=\"dataframe\">\n",
       "  <thead>\n",
       "    <tr style=\"text-align: right;\">\n",
       "      <th></th>\n",
       "      <th>0</th>\n",
       "      <th>1</th>\n",
       "      <th>2</th>\n",
       "      <th>3</th>\n",
       "      <th>4</th>\n",
       "      <th>5</th>\n",
       "      <th>6</th>\n",
       "      <th>7</th>\n",
       "      <th>8</th>\n",
       "      <th>9</th>\n",
       "    </tr>\n",
       "  </thead>\n",
       "  <tbody>\n",
       "    <tr>\n",
       "      <th>Name</th>\n",
       "      <td>John</td>\n",
       "      <td>Suresh</td>\n",
       "      <td>Ramesh</td>\n",
       "      <td>Jessica</td>\n",
       "      <td>Jennifer</td>\n",
       "      <td>Annu</td>\n",
       "      <td>pooja</td>\n",
       "      <td>Ritesh</td>\n",
       "      <td>Farha</td>\n",
       "      <td>Mukesh</td>\n",
       "    </tr>\n",
       "    <tr>\n",
       "      <th>Gender</th>\n",
       "      <td>M</td>\n",
       "      <td>M</td>\n",
       "      <td>M</td>\n",
       "      <td>F</td>\n",
       "      <td>F</td>\n",
       "      <td>F</td>\n",
       "      <td>F</td>\n",
       "      <td>M</td>\n",
       "      <td>F</td>\n",
       "      <td>M</td>\n",
       "    </tr>\n",
       "    <tr>\n",
       "      <th>DOB</th>\n",
       "      <td>05-04-1988</td>\n",
       "      <td>04-05-1987</td>\n",
       "      <td>25-05-1989</td>\n",
       "      <td>12-08-1990</td>\n",
       "      <td>02-09-1989</td>\n",
       "      <td>05-04-1988</td>\n",
       "      <td>04-05-1987</td>\n",
       "      <td>25-05-1989</td>\n",
       "      <td>12-08-1990</td>\n",
       "      <td>02-09-1989</td>\n",
       "    </tr>\n",
       "    <tr>\n",
       "      <th>Maths</th>\n",
       "      <td>55</td>\n",
       "      <td>75</td>\n",
       "      <td>25</td>\n",
       "      <td>78</td>\n",
       "      <td>58</td>\n",
       "      <td>45</td>\n",
       "      <td>55</td>\n",
       "      <td>54</td>\n",
       "      <td>55</td>\n",
       "      <td>96</td>\n",
       "    </tr>\n",
       "    <tr>\n",
       "      <th>Physics</th>\n",
       "      <td>45</td>\n",
       "      <td>96</td>\n",
       "      <td>54</td>\n",
       "      <td>96</td>\n",
       "      <td>96</td>\n",
       "      <td>87</td>\n",
       "      <td>64</td>\n",
       "      <td>76</td>\n",
       "      <td>63</td>\n",
       "      <td>46</td>\n",
       "    </tr>\n",
       "    <tr>\n",
       "      <th>Chemistry</th>\n",
       "      <td>56</td>\n",
       "      <td>78</td>\n",
       "      <td>89</td>\n",
       "      <td>86</td>\n",
       "      <td>78</td>\n",
       "      <td>52</td>\n",
       "      <td>61</td>\n",
       "      <td>87</td>\n",
       "      <td>89</td>\n",
       "      <td>77</td>\n",
       "    </tr>\n",
       "    <tr>\n",
       "      <th>English</th>\n",
       "      <td>87</td>\n",
       "      <td>64</td>\n",
       "      <td>76</td>\n",
       "      <td>63</td>\n",
       "      <td>46</td>\n",
       "      <td>89</td>\n",
       "      <td>58</td>\n",
       "      <td>56</td>\n",
       "      <td>75</td>\n",
       "      <td>83</td>\n",
       "    </tr>\n",
       "    <tr>\n",
       "      <th>Biology</th>\n",
       "      <td>21</td>\n",
       "      <td>90</td>\n",
       "      <td>95</td>\n",
       "      <td>54</td>\n",
       "      <td>96</td>\n",
       "      <td>55</td>\n",
       "      <td>75</td>\n",
       "      <td>25</td>\n",
       "      <td>78</td>\n",
       "      <td>58</td>\n",
       "    </tr>\n",
       "    <tr>\n",
       "      <th>Economics</th>\n",
       "      <td>52</td>\n",
       "      <td>61</td>\n",
       "      <td>87</td>\n",
       "      <td>89</td>\n",
       "      <td>77</td>\n",
       "      <td>89</td>\n",
       "      <td>58</td>\n",
       "      <td>56</td>\n",
       "      <td>75</td>\n",
       "      <td>83</td>\n",
       "    </tr>\n",
       "    <tr>\n",
       "      <th>History</th>\n",
       "      <td>89</td>\n",
       "      <td>58</td>\n",
       "      <td>56</td>\n",
       "      <td>75</td>\n",
       "      <td>83</td>\n",
       "      <td>87</td>\n",
       "      <td>64</td>\n",
       "      <td>76</td>\n",
       "      <td>63</td>\n",
       "      <td>46</td>\n",
       "    </tr>\n",
       "    <tr>\n",
       "      <th>Civics</th>\n",
       "      <td>65</td>\n",
       "      <td>2</td>\n",
       "      <td>74</td>\n",
       "      <td>45</td>\n",
       "      <td>53</td>\n",
       "      <td>52</td>\n",
       "      <td>61</td>\n",
       "      <td>87</td>\n",
       "      <td>89</td>\n",
       "      <td>77</td>\n",
       "    </tr>\n",
       "  </tbody>\n",
       "</table>\n",
       "</div>"
      ],
      "text/plain": [
       "                    0           1           2           3           4  \\\n",
       "Name             John      Suresh      Ramesh     Jessica    Jennifer   \n",
       "Gender              M           M           M           F           F   \n",
       "DOB        05-04-1988  04-05-1987  25-05-1989  12-08-1990  02-09-1989   \n",
       "Maths              55          75          25          78          58   \n",
       "Physics            45          96          54          96          96   \n",
       "Chemistry          56          78          89          86          78   \n",
       "English            87          64          76          63          46   \n",
       "Biology            21          90          95          54          96   \n",
       "Economics          52          61          87          89          77   \n",
       "History            89          58          56          75          83   \n",
       "Civics             65           2          74          45          53   \n",
       "\n",
       "                    5           6           7           8           9  \n",
       "Name             Annu       pooja      Ritesh       Farha      Mukesh  \n",
       "Gender              F           F           M           F           M  \n",
       "DOB        05-04-1988  04-05-1987  25-05-1989  12-08-1990  02-09-1989  \n",
       "Maths              45          55          54          55          96  \n",
       "Physics            87          64          76          63          46  \n",
       "Chemistry          52          61          87          89          77  \n",
       "English            89          58          56          75          83  \n",
       "Biology            55          75          25          78          58  \n",
       "Economics          89          58          56          75          83  \n",
       "History            87          64          76          63          46  \n",
       "Civics             52          61          87          89          77  "
      ]
     },
     "execution_count": 429,
     "metadata": {},
     "output_type": "execute_result"
    }
   ],
   "source": [
    "df_T=df.T\n",
    "df_T"
   ]
  },
  {
   "cell_type": "code",
   "execution_count": 430,
   "metadata": {},
   "outputs": [
    {
     "data": {
      "text/plain": [
       "Index(['Name', 'Gender', 'DOB', 'Maths', 'Physics', 'Chemistry', 'English',\n",
       "       'Biology', 'Economics', 'History', 'Civics'],\n",
       "      dtype='object')"
      ]
     },
     "execution_count": 430,
     "metadata": {},
     "output_type": "execute_result"
    }
   ],
   "source": [
    "df_T.index"
   ]
  },
  {
   "cell_type": "code",
   "execution_count": 431,
   "metadata": {},
   "outputs": [
    {
     "data": {
      "text/plain": [
       "RangeIndex(start=0, stop=10, step=1)"
      ]
     },
     "execution_count": 431,
     "metadata": {},
     "output_type": "execute_result"
    }
   ],
   "source": [
    "df_T.columns"
   ]
  },
  {
   "cell_type": "code",
   "execution_count": 432,
   "metadata": {},
   "outputs": [
    {
     "data": {
      "text/plain": [
       "array(['John', 'Suresh', 'Ramesh', 'Jessica', 'Jennifer', 'Annu', 'pooja',\n",
       "       'Ritesh', 'Farha', 'Mukesh'], dtype=object)"
      ]
     },
     "execution_count": 432,
     "metadata": {},
     "output_type": "execute_result"
    }
   ],
   "source": [
    "#printing 1st row values\n",
    "df_T.iloc[0].values"
   ]
  },
  {
   "cell_type": "code",
   "execution_count": 433,
   "metadata": {},
   "outputs": [
    {
     "data": {
      "text/html": [
       "<div>\n",
       "<style scoped>\n",
       "    .dataframe tbody tr th:only-of-type {\n",
       "        vertical-align: middle;\n",
       "    }\n",
       "\n",
       "    .dataframe tbody tr th {\n",
       "        vertical-align: top;\n",
       "    }\n",
       "\n",
       "    .dataframe thead th {\n",
       "        text-align: right;\n",
       "    }\n",
       "</style>\n",
       "<table border=\"1\" class=\"dataframe\">\n",
       "  <thead>\n",
       "    <tr style=\"text-align: right;\">\n",
       "      <th></th>\n",
       "      <th>John</th>\n",
       "      <th>Suresh</th>\n",
       "      <th>Ramesh</th>\n",
       "      <th>Jessica</th>\n",
       "      <th>Jennifer</th>\n",
       "      <th>Annu</th>\n",
       "      <th>pooja</th>\n",
       "      <th>Ritesh</th>\n",
       "      <th>Farha</th>\n",
       "      <th>Mukesh</th>\n",
       "    </tr>\n",
       "  </thead>\n",
       "  <tbody>\n",
       "    <tr>\n",
       "      <th>Name</th>\n",
       "      <td>John</td>\n",
       "      <td>Suresh</td>\n",
       "      <td>Ramesh</td>\n",
       "      <td>Jessica</td>\n",
       "      <td>Jennifer</td>\n",
       "      <td>Annu</td>\n",
       "      <td>pooja</td>\n",
       "      <td>Ritesh</td>\n",
       "      <td>Farha</td>\n",
       "      <td>Mukesh</td>\n",
       "    </tr>\n",
       "    <tr>\n",
       "      <th>Gender</th>\n",
       "      <td>M</td>\n",
       "      <td>M</td>\n",
       "      <td>M</td>\n",
       "      <td>F</td>\n",
       "      <td>F</td>\n",
       "      <td>F</td>\n",
       "      <td>F</td>\n",
       "      <td>M</td>\n",
       "      <td>F</td>\n",
       "      <td>M</td>\n",
       "    </tr>\n",
       "    <tr>\n",
       "      <th>DOB</th>\n",
       "      <td>05-04-1988</td>\n",
       "      <td>04-05-1987</td>\n",
       "      <td>25-05-1989</td>\n",
       "      <td>12-08-1990</td>\n",
       "      <td>02-09-1989</td>\n",
       "      <td>05-04-1988</td>\n",
       "      <td>04-05-1987</td>\n",
       "      <td>25-05-1989</td>\n",
       "      <td>12-08-1990</td>\n",
       "      <td>02-09-1989</td>\n",
       "    </tr>\n",
       "    <tr>\n",
       "      <th>Maths</th>\n",
       "      <td>55</td>\n",
       "      <td>75</td>\n",
       "      <td>25</td>\n",
       "      <td>78</td>\n",
       "      <td>58</td>\n",
       "      <td>45</td>\n",
       "      <td>55</td>\n",
       "      <td>54</td>\n",
       "      <td>55</td>\n",
       "      <td>96</td>\n",
       "    </tr>\n",
       "    <tr>\n",
       "      <th>Physics</th>\n",
       "      <td>45</td>\n",
       "      <td>96</td>\n",
       "      <td>54</td>\n",
       "      <td>96</td>\n",
       "      <td>96</td>\n",
       "      <td>87</td>\n",
       "      <td>64</td>\n",
       "      <td>76</td>\n",
       "      <td>63</td>\n",
       "      <td>46</td>\n",
       "    </tr>\n",
       "    <tr>\n",
       "      <th>Chemistry</th>\n",
       "      <td>56</td>\n",
       "      <td>78</td>\n",
       "      <td>89</td>\n",
       "      <td>86</td>\n",
       "      <td>78</td>\n",
       "      <td>52</td>\n",
       "      <td>61</td>\n",
       "      <td>87</td>\n",
       "      <td>89</td>\n",
       "      <td>77</td>\n",
       "    </tr>\n",
       "    <tr>\n",
       "      <th>English</th>\n",
       "      <td>87</td>\n",
       "      <td>64</td>\n",
       "      <td>76</td>\n",
       "      <td>63</td>\n",
       "      <td>46</td>\n",
       "      <td>89</td>\n",
       "      <td>58</td>\n",
       "      <td>56</td>\n",
       "      <td>75</td>\n",
       "      <td>83</td>\n",
       "    </tr>\n",
       "    <tr>\n",
       "      <th>Biology</th>\n",
       "      <td>21</td>\n",
       "      <td>90</td>\n",
       "      <td>95</td>\n",
       "      <td>54</td>\n",
       "      <td>96</td>\n",
       "      <td>55</td>\n",
       "      <td>75</td>\n",
       "      <td>25</td>\n",
       "      <td>78</td>\n",
       "      <td>58</td>\n",
       "    </tr>\n",
       "    <tr>\n",
       "      <th>Economics</th>\n",
       "      <td>52</td>\n",
       "      <td>61</td>\n",
       "      <td>87</td>\n",
       "      <td>89</td>\n",
       "      <td>77</td>\n",
       "      <td>89</td>\n",
       "      <td>58</td>\n",
       "      <td>56</td>\n",
       "      <td>75</td>\n",
       "      <td>83</td>\n",
       "    </tr>\n",
       "    <tr>\n",
       "      <th>History</th>\n",
       "      <td>89</td>\n",
       "      <td>58</td>\n",
       "      <td>56</td>\n",
       "      <td>75</td>\n",
       "      <td>83</td>\n",
       "      <td>87</td>\n",
       "      <td>64</td>\n",
       "      <td>76</td>\n",
       "      <td>63</td>\n",
       "      <td>46</td>\n",
       "    </tr>\n",
       "    <tr>\n",
       "      <th>Civics</th>\n",
       "      <td>65</td>\n",
       "      <td>2</td>\n",
       "      <td>74</td>\n",
       "      <td>45</td>\n",
       "      <td>53</td>\n",
       "      <td>52</td>\n",
       "      <td>61</td>\n",
       "      <td>87</td>\n",
       "      <td>89</td>\n",
       "      <td>77</td>\n",
       "    </tr>\n",
       "  </tbody>\n",
       "</table>\n",
       "</div>"
      ],
      "text/plain": [
       "                 John      Suresh      Ramesh     Jessica    Jennifer  \\\n",
       "Name             John      Suresh      Ramesh     Jessica    Jennifer   \n",
       "Gender              M           M           M           F           F   \n",
       "DOB        05-04-1988  04-05-1987  25-05-1989  12-08-1990  02-09-1989   \n",
       "Maths              55          75          25          78          58   \n",
       "Physics            45          96          54          96          96   \n",
       "Chemistry          56          78          89          86          78   \n",
       "English            87          64          76          63          46   \n",
       "Biology            21          90          95          54          96   \n",
       "Economics          52          61          87          89          77   \n",
       "History            89          58          56          75          83   \n",
       "Civics             65           2          74          45          53   \n",
       "\n",
       "                 Annu       pooja      Ritesh       Farha      Mukesh  \n",
       "Name             Annu       pooja      Ritesh       Farha      Mukesh  \n",
       "Gender              F           F           M           F           M  \n",
       "DOB        05-04-1988  04-05-1987  25-05-1989  12-08-1990  02-09-1989  \n",
       "Maths              45          55          54          55          96  \n",
       "Physics            87          64          76          63          46  \n",
       "Chemistry          52          61          87          89          77  \n",
       "English            89          58          56          75          83  \n",
       "Biology            55          75          25          78          58  \n",
       "Economics          89          58          56          75          83  \n",
       "History            87          64          76          63          46  \n",
       "Civics             52          61          87          89          77  "
      ]
     },
     "execution_count": 433,
     "metadata": {},
     "output_type": "execute_result"
    }
   ],
   "source": [
    "#setting first row values as column name\n",
    "df_T.columns=df_T.iloc[0].values\n",
    "df_T"
   ]
  },
  {
   "cell_type": "code",
   "execution_count": 434,
   "metadata": {},
   "outputs": [],
   "source": [
    "#remove 1st,2nd and 3rd row \n",
    "df_T=df_T.drop(['Name'],axis=0)\n",
    "df_T\n",
    "df_T=df_T.drop(['Gender','DOB'],axis=0)\n"
   ]
  },
  {
   "cell_type": "code",
   "execution_count": 435,
   "metadata": {},
   "outputs": [
    {
     "data": {
      "text/html": [
       "<div>\n",
       "<style scoped>\n",
       "    .dataframe tbody tr th:only-of-type {\n",
       "        vertical-align: middle;\n",
       "    }\n",
       "\n",
       "    .dataframe tbody tr th {\n",
       "        vertical-align: top;\n",
       "    }\n",
       "\n",
       "    .dataframe thead th {\n",
       "        text-align: right;\n",
       "    }\n",
       "</style>\n",
       "<table border=\"1\" class=\"dataframe\">\n",
       "  <thead>\n",
       "    <tr style=\"text-align: right;\">\n",
       "      <th></th>\n",
       "      <th>John</th>\n",
       "      <th>Suresh</th>\n",
       "      <th>Ramesh</th>\n",
       "      <th>Jessica</th>\n",
       "      <th>Jennifer</th>\n",
       "      <th>Annu</th>\n",
       "      <th>pooja</th>\n",
       "      <th>Ritesh</th>\n",
       "      <th>Farha</th>\n",
       "      <th>Mukesh</th>\n",
       "    </tr>\n",
       "  </thead>\n",
       "  <tbody>\n",
       "    <tr>\n",
       "      <th>Maths</th>\n",
       "      <td>55</td>\n",
       "      <td>75</td>\n",
       "      <td>25</td>\n",
       "      <td>78</td>\n",
       "      <td>58</td>\n",
       "      <td>45</td>\n",
       "      <td>55</td>\n",
       "      <td>54</td>\n",
       "      <td>55</td>\n",
       "      <td>96</td>\n",
       "    </tr>\n",
       "    <tr>\n",
       "      <th>Physics</th>\n",
       "      <td>45</td>\n",
       "      <td>96</td>\n",
       "      <td>54</td>\n",
       "      <td>96</td>\n",
       "      <td>96</td>\n",
       "      <td>87</td>\n",
       "      <td>64</td>\n",
       "      <td>76</td>\n",
       "      <td>63</td>\n",
       "      <td>46</td>\n",
       "    </tr>\n",
       "    <tr>\n",
       "      <th>Chemistry</th>\n",
       "      <td>56</td>\n",
       "      <td>78</td>\n",
       "      <td>89</td>\n",
       "      <td>86</td>\n",
       "      <td>78</td>\n",
       "      <td>52</td>\n",
       "      <td>61</td>\n",
       "      <td>87</td>\n",
       "      <td>89</td>\n",
       "      <td>77</td>\n",
       "    </tr>\n",
       "    <tr>\n",
       "      <th>English</th>\n",
       "      <td>87</td>\n",
       "      <td>64</td>\n",
       "      <td>76</td>\n",
       "      <td>63</td>\n",
       "      <td>46</td>\n",
       "      <td>89</td>\n",
       "      <td>58</td>\n",
       "      <td>56</td>\n",
       "      <td>75</td>\n",
       "      <td>83</td>\n",
       "    </tr>\n",
       "    <tr>\n",
       "      <th>Biology</th>\n",
       "      <td>21</td>\n",
       "      <td>90</td>\n",
       "      <td>95</td>\n",
       "      <td>54</td>\n",
       "      <td>96</td>\n",
       "      <td>55</td>\n",
       "      <td>75</td>\n",
       "      <td>25</td>\n",
       "      <td>78</td>\n",
       "      <td>58</td>\n",
       "    </tr>\n",
       "    <tr>\n",
       "      <th>Economics</th>\n",
       "      <td>52</td>\n",
       "      <td>61</td>\n",
       "      <td>87</td>\n",
       "      <td>89</td>\n",
       "      <td>77</td>\n",
       "      <td>89</td>\n",
       "      <td>58</td>\n",
       "      <td>56</td>\n",
       "      <td>75</td>\n",
       "      <td>83</td>\n",
       "    </tr>\n",
       "    <tr>\n",
       "      <th>History</th>\n",
       "      <td>89</td>\n",
       "      <td>58</td>\n",
       "      <td>56</td>\n",
       "      <td>75</td>\n",
       "      <td>83</td>\n",
       "      <td>87</td>\n",
       "      <td>64</td>\n",
       "      <td>76</td>\n",
       "      <td>63</td>\n",
       "      <td>46</td>\n",
       "    </tr>\n",
       "    <tr>\n",
       "      <th>Civics</th>\n",
       "      <td>65</td>\n",
       "      <td>2</td>\n",
       "      <td>74</td>\n",
       "      <td>45</td>\n",
       "      <td>53</td>\n",
       "      <td>52</td>\n",
       "      <td>61</td>\n",
       "      <td>87</td>\n",
       "      <td>89</td>\n",
       "      <td>77</td>\n",
       "    </tr>\n",
       "  </tbody>\n",
       "</table>\n",
       "</div>"
      ],
      "text/plain": [
       "          John Suresh Ramesh Jessica Jennifer Annu pooja Ritesh Farha Mukesh\n",
       "Maths       55     75     25      78       58   45    55     54    55     96\n",
       "Physics     45     96     54      96       96   87    64     76    63     46\n",
       "Chemistry   56     78     89      86       78   52    61     87    89     77\n",
       "English     87     64     76      63       46   89    58     56    75     83\n",
       "Biology     21     90     95      54       96   55    75     25    78     58\n",
       "Economics   52     61     87      89       77   89    58     56    75     83\n",
       "History     89     58     56      75       83   87    64     76    63     46\n",
       "Civics      65      2     74      45       53   52    61     87    89     77"
      ]
     },
     "execution_count": 435,
     "metadata": {},
     "output_type": "execute_result"
    }
   ],
   "source": [
    "df_T"
   ]
  },
  {
   "cell_type": "code",
   "execution_count": 436,
   "metadata": {},
   "outputs": [
    {
     "data": {
      "text/plain": [
       "array([<matplotlib.axes._subplots.AxesSubplot object at 0x0000027E6FC7E7C0>,\n",
       "       <matplotlib.axes._subplots.AxesSubplot object at 0x0000027E6FCA8940>,\n",
       "       <matplotlib.axes._subplots.AxesSubplot object at 0x0000027E6FCCD5B0>,\n",
       "       <matplotlib.axes._subplots.AxesSubplot object at 0x0000027E6FCF5B50>,\n",
       "       <matplotlib.axes._subplots.AxesSubplot object at 0x0000027E6FD2F130>,\n",
       "       <matplotlib.axes._subplots.AxesSubplot object at 0x0000027E6FD596D0>,\n",
       "       <matplotlib.axes._subplots.AxesSubplot object at 0x0000027E6FD66670>,\n",
       "       <matplotlib.axes._subplots.AxesSubplot object at 0x0000027E6FD8FC40>,\n",
       "       <matplotlib.axes._subplots.AxesSubplot object at 0x0000027E6FDE47C0>,\n",
       "       <matplotlib.axes._subplots.AxesSubplot object at 0x0000027E6FE10D60>],\n",
       "      dtype=object)"
      ]
     },
     "execution_count": 436,
     "metadata": {},
     "output_type": "execute_result"
    },
    {
     "data": {
      "image/png": "[encoded data removed]",
      "text/plain": [
       "<Figure size 720x1800 with 10 Axes>"
      ]
     },
     "metadata": {
      "needs_background": "light"
     },
     "output_type": "display_data"
    }
   ],
   "source": [
    "#ploting bar graph of marks for each student \n",
    "df_T.plot(kind='bar',subplots=True,figsize=(10,25))\n"
   ]
  },
  {
   "cell_type": "code",
   "execution_count": 437,
   "metadata": {},
   "outputs": [
    {
     "data": {
      "text/html": [
       "<div>\n",
       "<style scoped>\n",
       "    .dataframe tbody tr th:only-of-type {\n",
       "        vertical-align: middle;\n",
       "    }\n",
       "\n",
       "    .dataframe tbody tr th {\n",
       "        vertical-align: top;\n",
       "    }\n",
       "\n",
       "    .dataframe thead th {\n",
       "        text-align: right;\n",
       "    }\n",
       "</style>\n",
       "<table border=\"1\" class=\"dataframe\">\n",
       "  <thead>\n",
       "    <tr style=\"text-align: right;\">\n",
       "      <th></th>\n",
       "      <th>John</th>\n",
       "      <th>Suresh</th>\n",
       "      <th>Ramesh</th>\n",
       "      <th>Jessica</th>\n",
       "      <th>Jennifer</th>\n",
       "      <th>Annu</th>\n",
       "      <th>pooja</th>\n",
       "      <th>Ritesh</th>\n",
       "      <th>Farha</th>\n",
       "      <th>Mukesh</th>\n",
       "    </tr>\n",
       "  </thead>\n",
       "  <tbody>\n",
       "    <tr>\n",
       "      <th>Maths</th>\n",
       "      <td>55</td>\n",
       "      <td>75</td>\n",
       "      <td>25</td>\n",
       "      <td>78</td>\n",
       "      <td>58</td>\n",
       "      <td>45</td>\n",
       "      <td>55</td>\n",
       "      <td>54</td>\n",
       "      <td>55</td>\n",
       "      <td>96</td>\n",
       "    </tr>\n",
       "    <tr>\n",
       "      <th>Physics</th>\n",
       "      <td>45</td>\n",
       "      <td>96</td>\n",
       "      <td>54</td>\n",
       "      <td>96</td>\n",
       "      <td>96</td>\n",
       "      <td>87</td>\n",
       "      <td>64</td>\n",
       "      <td>76</td>\n",
       "      <td>63</td>\n",
       "      <td>46</td>\n",
       "    </tr>\n",
       "    <tr>\n",
       "      <th>Chemistry</th>\n",
       "      <td>56</td>\n",
       "      <td>78</td>\n",
       "      <td>89</td>\n",
       "      <td>86</td>\n",
       "      <td>78</td>\n",
       "      <td>52</td>\n",
       "      <td>61</td>\n",
       "      <td>87</td>\n",
       "      <td>89</td>\n",
       "      <td>77</td>\n",
       "    </tr>\n",
       "    <tr>\n",
       "      <th>English</th>\n",
       "      <td>87</td>\n",
       "      <td>64</td>\n",
       "      <td>76</td>\n",
       "      <td>63</td>\n",
       "      <td>46</td>\n",
       "      <td>89</td>\n",
       "      <td>58</td>\n",
       "      <td>56</td>\n",
       "      <td>75</td>\n",
       "      <td>83</td>\n",
       "    </tr>\n",
       "    <tr>\n",
       "      <th>Biology</th>\n",
       "      <td>21</td>\n",
       "      <td>90</td>\n",
       "      <td>95</td>\n",
       "      <td>54</td>\n",
       "      <td>96</td>\n",
       "      <td>55</td>\n",
       "      <td>75</td>\n",
       "      <td>25</td>\n",
       "      <td>78</td>\n",
       "      <td>58</td>\n",
       "    </tr>\n",
       "    <tr>\n",
       "      <th>Economics</th>\n",
       "      <td>52</td>\n",
       "      <td>61</td>\n",
       "      <td>87</td>\n",
       "      <td>89</td>\n",
       "      <td>77</td>\n",
       "      <td>89</td>\n",
       "      <td>58</td>\n",
       "      <td>56</td>\n",
       "      <td>75</td>\n",
       "      <td>83</td>\n",
       "    </tr>\n",
       "    <tr>\n",
       "      <th>History</th>\n",
       "      <td>89</td>\n",
       "      <td>58</td>\n",
       "      <td>56</td>\n",
       "      <td>75</td>\n",
       "      <td>83</td>\n",
       "      <td>87</td>\n",
       "      <td>64</td>\n",
       "      <td>76</td>\n",
       "      <td>63</td>\n",
       "      <td>46</td>\n",
       "    </tr>\n",
       "    <tr>\n",
       "      <th>Civics</th>\n",
       "      <td>65</td>\n",
       "      <td>2</td>\n",
       "      <td>74</td>\n",
       "      <td>45</td>\n",
       "      <td>53</td>\n",
       "      <td>52</td>\n",
       "      <td>61</td>\n",
       "      <td>87</td>\n",
       "      <td>89</td>\n",
       "      <td>77</td>\n",
       "    </tr>\n",
       "  </tbody>\n",
       "</table>\n",
       "</div>"
      ],
      "text/plain": [
       "          John Suresh Ramesh Jessica Jennifer Annu pooja Ritesh Farha Mukesh\n",
       "Maths       55     75     25      78       58   45    55     54    55     96\n",
       "Physics     45     96     54      96       96   87    64     76    63     46\n",
       "Chemistry   56     78     89      86       78   52    61     87    89     77\n",
       "English     87     64     76      63       46   89    58     56    75     83\n",
       "Biology     21     90     95      54       96   55    75     25    78     58\n",
       "Economics   52     61     87      89       77   89    58     56    75     83\n",
       "History     89     58     56      75       83   87    64     76    63     46\n",
       "Civics      65      2     74      45       53   52    61     87    89     77"
      ]
     },
     "execution_count": 437,
     "metadata": {},
     "output_type": "execute_result"
    }
   ],
   "source": [
    "df_T"
   ]
  },
  {
   "cell_type": "code",
   "execution_count": 438,
   "metadata": {},
   "outputs": [
    {
     "data": {
      "text/plain": [
       "John        470.0\n",
       "Suresh      524.0\n",
       "Ramesh      556.0\n",
       "Jessica     586.0\n",
       "Jennifer    587.0\n",
       "Annu        556.0\n",
       "pooja       496.0\n",
       "Ritesh      517.0\n",
       "Farha       587.0\n",
       "Mukesh      566.0\n",
       "dtype: float64"
      ]
     },
     "execution_count": 438,
     "metadata": {},
     "output_type": "execute_result"
    }
   ],
   "source": [
    "df_sum=df_T.sum(axis=0)\n",
    "df_sum"
   ]
  },
  {
   "cell_type": "code",
   "execution_count": 439,
   "metadata": {},
   "outputs": [
    {
     "data": {
      "text/plain": [
       "<matplotlib.axes._subplots.AxesSubplot at 0x27e70560640>"
      ]
     },
     "execution_count": 439,
     "metadata": {},
     "output_type": "execute_result"
    },
    {
     "data": {
      "image/png": "[encoded data removed]",
      "text/plain": [
       "<Figure size 432x432 with 1 Axes>"
      ]
     },
     "metadata": {},
     "output_type": "display_data"
    }
   ],
   "source": [
    "#from below graph it is clear that Farha,Jennifer,jessica scored more than other students\n",
    "#df_sum.sort_values().plot(kind='bar')\n",
    "df_sum.sort_values().plot(kind='pie',autopct='%1.1f%%',figsize=(6,6))"
   ]
  },
  {
   "cell_type": "code",
   "execution_count": 440,
   "metadata": {},
   "outputs": [
    {
     "data": {
      "text/plain": [
       "<matplotlib.axes._subplots.AxesSubplot at 0x27e70930a30>"
      ]
     },
     "execution_count": 440,
     "metadata": {},
     "output_type": "execute_result"
    },
    {
     "data": {
      "image/png": "[encoded data removed]",
      "text/plain": [
       "<Figure size 432x288 with 1 Axes>"
      ]
     },
     "metadata": {
      "needs_background": "light"
     },
     "output_type": "display_data"
    }
   ],
   "source": [
    "#find avg score in each subject\n",
    "df_mean=df_T.mean(axis=1)\n",
    "df_mean.sort_values().plot(kind='bar')\n",
    "#Students did good in Chemistry and score low mark in maths"
   ]
  },
  {
   "cell_type": "code",
   "execution_count": 441,
   "metadata": {},
   "outputs": [
    {
     "data": {
      "text/plain": [
       "<matplotlib.axes._subplots.AxesSubplot at 0x27e6fb81e80>"
      ]
     },
     "execution_count": 441,
     "metadata": {},
     "output_type": "execute_result"
    },
    {
     "data": {
      "image/png": "[encoded data removed]",
      "text/plain": [
       "<Figure size 720x432 with 1 Axes>"
      ]
     },
     "metadata": {
      "needs_background": "light"
     },
     "output_type": "display_data"
    }
   ],
   "source": [
    "#Students did good in Chemistry and score low mark in maths.Using line plot\n",
    "df_mean.sort_values().plot(kind='line',figsize=(10,6), marker='o')"
   ]
  }
 ],
 "metadata": {
  "kernelspec": {
   "display_name": "Python 3",
   "language": "python",
   "name": "python3"
  },
  "language_info": {
   "codemirror_mode": {
    "name": "ipython",
    "version": 3
   },
   "file_extension": ".py",
   "mimetype": "text/x-python",
   "name": "python",
   "nbconvert_exporter": "python",
   "pygments_lexer": "ipython3",
   "version": "3.8.3"
  }
 },
 "nbformat": 4,
 "nbformat_minor": 4
}
